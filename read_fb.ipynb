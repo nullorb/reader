{
 "cells": [
  {
   "cell_type": "code",
   "execution_count": 1,
   "metadata": {},
   "outputs": [],
   "source": [
    "import time\n",
    "from selenium import webdriver\n",
    "from bs4 import BeautifulSoup\n",
    "from webdriver_manager.chrome import ChromeDriverManager\n",
    "\n",
    "\n",
    "#if not install ed driver = webdriver.Chrome(ChromeDriverManager().install())\n",
    "driver = webdriver.Chrome('.wdm/drivers/chromedriver/win32/87.0.4280.88/chromedriver.exe')  # Optional argument, if not specified will search path.\n",
    "driver.get('https://www.facebook.com/');\n",
    "#time.sleep(5) # Let the user actually see something!\n"
   ]
  },
  {
   "cell_type": "code",
   "execution_count": 22,
   "metadata": {},
   "outputs": [
    {
     "name": "stdout",
     "output_type": "stream",
     "text": [
      "Nouman Ali Khan Videos : Abdullah Omar NasifNouman Ali Khan Videos : \n",
      "tSponso5umrcedg : Avas is live now. : Asheh 19-01-2021\n",
      "tSponso6umrcedg : U.S. Air Force Academy  : Way to hit the ground running!After returning from holiday break, the semester began with fully online classes. Due to the tremendous efforts of our medical professionals, faculty, staff, and cadets, in-person classes began last week.The health and safety of our cadets and instructors remains top priority as we transition back to in-person learning.… See More\n",
      "tSponso1umrcedg : Ancient Stone : Private customer mountain aquascape for 100x50x50cm . Shipping to USA.#aquascaping #aquarium #aquariumdesign #stoneart #mountain #mountainlovers #landscape\n",
      "  ·  : Hai Sensebuyandsellmv : we are repairing all type off Air conditioner.More information plz call...\n",
      " ·  : CNBC International  : Mass deliveries of Xpeng’s P7 sedan, a direct rival to Tesla’s Model 3, began last June.\n",
      "tnSpconsr1oredh : The Logical Maldivian : Kury sarukaarun ninmafai othee kurimathili huriha Teachers ah flat dheyn, mi sarukaarun Teachers flat unikurin: Flat comittee http://voice.mv/12457\n"
     ]
    }
   ],
   "source": [
    "#driver.execute_script(\"window.scrollTo(0, document.body.scrollHeight);\")\n",
    "\n",
    "my_elements = driver.find_elements_by_css_selector('div[role=article]')\n",
    "for element in my_elements:\n",
    "    try:\n",
    "        soup = BeautifulSoup(element.get_attribute('innerHTML'), 'html.parser')\n",
    "        message_box = soup.select('div[data-ad-comet-preview=message]')[0]\n",
    "        user_box = soup.select('h4')[0]\n",
    "        time_box = soup.select('span')[10]\n",
    "        if time_box.text !='SptoSpoenlshtlffnosormlhreeedd':\n",
    "            print (time_box.text,\":\",user_box.text,\":\",message_box.text)\n",
    "    except:\n",
    "        1\n",
    "time.sleep(5) "
   ]
  },
  {
   "cell_type": "code",
   "execution_count": 3,
   "metadata": {},
   "outputs": [],
   "source": []
  },
  {
   "cell_type": "code",
   "execution_count": 17,
   "metadata": {},
   "outputs": [
    {
     "data": {
      "text/plain": [
       "'24m'"
      ]
     },
     "execution_count": 17,
     "metadata": {},
     "output_type": "execute_result"
    }
   ],
   "source": []
  },
  {
   "cell_type": "code",
   "execution_count": null,
   "metadata": {},
   "outputs": [],
   "source": []
  }
 ],
 "metadata": {
  "kernelspec": {
   "display_name": "Python 3",
   "language": "python",
   "name": "python3"
  },
  "language_info": {
   "codemirror_mode": {
    "name": "ipython",
    "version": 3
   },
   "file_extension": ".py",
   "mimetype": "text/x-python",
   "name": "python",
   "nbconvert_exporter": "python",
   "pygments_lexer": "ipython3",
   "version": "3.7.6"
  }
 },
 "nbformat": 4,
 "nbformat_minor": 4
}
